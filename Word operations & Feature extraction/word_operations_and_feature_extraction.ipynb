{
 "cells": [
  {
   "attachments": {},
   "cell_type": "markdown",
   "id": "4e7e3cb3",
   "metadata": {},
   "source": [
    "# Introduction to Natural Language Processing\n",
    "\n",
    "### Word operations & Feature extraction using Pandas, Sklearn"
   ]
  },
  {
   "attachments": {},
   "cell_type": "markdown",
   "id": "6f7d879f",
   "metadata": {},
   "source": [
    "# PYTHON BASICS"
   ]
  },
  {
   "attachments": {},
   "cell_type": "markdown",
   "id": "9b6a8194",
   "metadata": {},
   "source": [
    "## Arrays and Hash Maps are called Lists and Dictionaries \n",
    "\n",
    "What we commonly know as an array is called in Python a list. Similarly we have also a dictionary as data structure which are like lookup tables. One interesting aspect here is that we can mix several types into this structures."
   ]
  },
  {
   "cell_type": "code",
   "execution_count": 9,
   "id": "59e5d310",
   "metadata": {},
   "outputs": [],
   "source": [
    "my_string = \"TEST ABC\"\n",
    "my_integer = 42\n",
    "my_slice = my_string[:3]\n",
    "my_float = 3.5\n"
   ]
  },
  {
   "cell_type": "code",
   "execution_count": 10,
   "id": "ec4c574a",
   "metadata": {},
   "outputs": [],
   "source": [
    "my_list = [my_string, my_integer, my_slice, my_float]\n"
   ]
  },
  {
   "cell_type": "code",
   "execution_count": 11,
   "id": "91c6ef4d",
   "metadata": {},
   "outputs": [
    {
     "name": "stdout",
     "output_type": "stream",
     "text": [
      "['TEST ABC', 42, 'TES', 3.5]\n"
     ]
    }
   ],
   "source": [
    "print(my_list)\n"
   ]
  },
  {
   "cell_type": "code",
   "execution_count": 12,
   "id": "ab92108a",
   "metadata": {},
   "outputs": [],
   "source": [
    "another_list = my_string.split(\" \") + my_list\n"
   ]
  },
  {
   "cell_type": "code",
   "execution_count": 13,
   "id": "a1c3fabe",
   "metadata": {},
   "outputs": [
    {
     "name": "stdout",
     "output_type": "stream",
     "text": [
      "['TEST', 'ABC', 'TEST ABC', 42, 'TES', 3.5]\n"
     ]
    }
   ],
   "source": [
    "print(another_list)\n"
   ]
  },
  {
   "cell_type": "code",
   "execution_count": 14,
   "id": "0f3fff08",
   "metadata": {},
   "outputs": [],
   "source": [
    "my_list.append(my_string.split(\" \"))\n"
   ]
  },
  {
   "cell_type": "code",
   "execution_count": 15,
   "id": "46e73aa6",
   "metadata": {},
   "outputs": [
    {
     "name": "stdout",
     "output_type": "stream",
     "text": [
      "['TEST ABC', 42, 'TES', 3.5, ['TEST', 'ABC']]\n"
     ]
    }
   ],
   "source": [
    "print(my_list)\n"
   ]
  },
  {
   "cell_type": "code",
   "execution_count": 20,
   "id": "7aa3cad2",
   "metadata": {},
   "outputs": [],
   "source": [
    "my_dict = {\"a\": 1, \"b\": 2, \"c\": 3, \"d\": my_list}\n"
   ]
  },
  {
   "cell_type": "code",
   "execution_count": 21,
   "id": "f99cb9b7",
   "metadata": {},
   "outputs": [
    {
     "name": "stdout",
     "output_type": "stream",
     "text": [
      "{'a': 1, 'b': 2, 'c': 3, 'd': ['TEST ABC', 42, 'TES', 3.5, ['TEST', 'ABC']]}\n"
     ]
    }
   ],
   "source": [
    "print(my_dict)\n"
   ]
  },
  {
   "attachments": {},
   "cell_type": "markdown",
   "id": "196d53c6",
   "metadata": {},
   "source": [
    "## Defining Functions\n",
    "\n",
    "Let's say that we want a function to return always the last letter of a word in a string"
   ]
  },
  {
   "cell_type": "code",
   "execution_count": 38,
   "id": "d2d810ce",
   "metadata": {},
   "outputs": [],
   "source": [
    "this_string = \"Introduction to Natural Language Processing\"\n"
   ]
  },
  {
   "cell_type": "code",
   "execution_count": 21,
   "id": "74037b0b",
   "metadata": {},
   "outputs": [],
   "source": [
    "def extract_last_letter(any_string):\n",
    "    letter_list = [word[-1] for word in any_string.split(\" \")]\n",
    "    return letter_list\n"
   ]
  },
  {
   "cell_type": "code",
   "execution_count": 22,
   "id": "e1bd0a1a",
   "metadata": {},
   "outputs": [],
   "source": [
    "my_letter_list = extract_last_letter(this_string)\n"
   ]
  },
  {
   "cell_type": "code",
   "execution_count": 23,
   "id": "526e9100",
   "metadata": {},
   "outputs": [
    {
     "name": "stdout",
     "output_type": "stream",
     "text": [
      "['n', 'o', 'l', 'e', 'g']\n"
     ]
    }
   ],
   "source": [
    "print(my_letter_list)\n"
   ]
  },
  {
   "attachments": {},
   "cell_type": "markdown",
   "id": "eac73fe6",
   "metadata": {},
   "source": [
    "Create a function that returns every word in a string in lowercase and another one for uppercase\n",
    "\n",
    "**Hint:** explore the funtions `upper` and `lower`"
   ]
  },
  {
   "cell_type": "code",
   "execution_count": 24,
   "id": "637fc32e",
   "metadata": {},
   "outputs": [],
   "source": [
    "def return_lower(any_string):\n",
    "    return any_string.lower()\n"
   ]
  },
  {
   "cell_type": "code",
   "execution_count": 25,
   "id": "8d7b7637",
   "metadata": {},
   "outputs": [
    {
     "name": "stdout",
     "output_type": "stream",
     "text": [
      "introduction to natural language processing\n"
     ]
    }
   ],
   "source": [
    "print(return_lower(this_string))\n"
   ]
  },
  {
   "cell_type": "code",
   "execution_count": 26,
   "id": "c599e938",
   "metadata": {},
   "outputs": [],
   "source": [
    "def return_upper(any_string):\n",
    "    return any_string.upper()\n"
   ]
  },
  {
   "cell_type": "code",
   "execution_count": 27,
   "id": "f0b8fd1e",
   "metadata": {},
   "outputs": [
    {
     "name": "stdout",
     "output_type": "stream",
     "text": [
      "INTRODUCTION TO NATURAL LANGUAGE PROCESSING\n"
     ]
    }
   ],
   "source": [
    "print(return_upper(this_string))\n"
   ]
  },
  {
   "attachments": {},
   "cell_type": "markdown",
   "id": "f32af0cd",
   "metadata": {},
   "source": [
    "## Iterating\n",
    "\n",
    "There are several ways of iterating, you can use the `enumerate()` method or you can combine `for`, `range` and the \n",
    "`length` of your type. Please make sure that you use meaningful names here. \n",
    "\n",
    "Let's look at an example let's create a function that returns a mapping of each word in a string and it's index"
   ]
  },
  {
   "cell_type": "code",
   "execution_count": 30,
   "id": "2bb4fac7",
   "metadata": {},
   "outputs": [],
   "source": [
    "def map_word_to_index(any_string):\n",
    "    word_list = any_string.split(\" \")\n",
    "    my_mapping = {}\n",
    "    for index in range(len(word_list)):\n",
    "        my_mapping[word_list[index]] = index\n",
    "    return my_mapping\n"
   ]
  },
  {
   "cell_type": "code",
   "execution_count": 31,
   "id": "9a026ddd",
   "metadata": {},
   "outputs": [
    {
     "name": "stdout",
     "output_type": "stream",
     "text": [
      "{'Introduction': 0, 'to': 1, 'Natural': 2, 'Language': 3, 'Processing': 4}\n"
     ]
    }
   ],
   "source": [
    "print(map_word_to_index(this_string))\n"
   ]
  },
  {
   "attachments": {},
   "cell_type": "markdown",
   "id": "ba272103",
   "metadata": {},
   "source": [
    "Now: try to explore the `enumerate()` method and write a similar function to return a list with only words with *even* indexes."
   ]
  },
  {
   "cell_type": "code",
   "execution_count": 45,
   "id": "29e997af",
   "metadata": {
    "scrolled": true
   },
   "outputs": [],
   "source": [
    "def extract_even_words(any_string):\n",
    "    words_list = any_string.split(\" \")\n",
    "    return [words_list[i] for i, word in enumerate(words_list) if i % 2 == 0]\n"
   ]
  },
  {
   "cell_type": "code",
   "execution_count": 46,
   "id": "8eeca095",
   "metadata": {},
   "outputs": [
    {
     "name": "stdout",
     "output_type": "stream",
     "text": [
      "['Introduction', 'Natural', 'Processing']\n"
     ]
    }
   ],
   "source": [
    "print(extract_even_words(this_string))\n"
   ]
  },
  {
   "attachments": {},
   "cell_type": "markdown",
   "id": "5c7c5e2b",
   "metadata": {},
   "source": [
    "## Reading text files\n",
    "\n",
    "We want to know is how to read files in Python. There are several posibilities of using `open()`, which is the function to work with files."
   ]
  },
  {
   "cell_type": "code",
   "execution_count": 2,
   "id": "3f714a2d",
   "metadata": {},
   "outputs": [
    {
     "name": "stdout",
     "output_type": "stream",
     "text": [
      "Play Services bittet User um Erlaubnis für:\\n\\n* Before starting to scan for and broadcast beacons.\\n* Before providing user keys to the app for uploading to the […] server once the user has been positively diagnosed with COVID-19.\\n\\n#CoronaApp dürfte das nicht verhindern können!\n",
      "\n",
      "----\n",
      "GPT-4 and its ilk are awesome for rapid prototyping and one-offs, but at the end of the day, enterprises will deploy far smaller distilled models in production.\n",
      "\n",
      "----\n",
      "Are you wondering how large language models like ChatGPT and InstructGPT actually work? One of the secret ingredients is RLHF - Reinforcement Learning from Human Feedback.\n",
      "----\n"
     ]
    }
   ],
   "source": [
    "with open(\"tweet.txt\", \"r\", encoding=\"utf-8\") as my_file:\n",
    "    for line in my_file:\n",
    "        print(line)\n",
    "        print(\"----\")\n"
   ]
  },
  {
   "attachments": {},
   "cell_type": "markdown",
   "id": "ed5f36ff-2ab4-4b7a-b0a3-82a10c20c919",
   "metadata": {},
   "source": [
    "## Tokenization"
   ]
  },
  {
   "cell_type": "code",
   "execution_count": 8,
   "id": "a8de2d7d-a5d8-4ebd-a712-9e456005ea41",
   "metadata": {},
   "outputs": [],
   "source": [
    "from urllib.request import urlopen\n",
    "import re\n",
    "\n",
    "little_women_url = \"http://www.gutenberg.org/cache/epub/514/pg514.txt\"\n",
    "\n",
    "\n",
    "def read_url(url):\n",
    "    return re.sub(\"\\\\s+\", \" \", urlopen(url).read().decode())\n",
    "\n",
    "\n",
    "text = read_url(little_women_url)\n"
   ]
  },
  {
   "cell_type": "code",
   "execution_count": 9,
   "id": "80c5c83d-fc13-4bf8-a064-43df9e41e021",
   "metadata": {},
   "outputs": [
    {
     "data": {
      "text/plain": [
       "'\\ufeffThe Project Gutenberg eBook of Little Women, by Louisa May Alcott This eBook is for the use of anyo'"
      ]
     },
     "execution_count": 9,
     "metadata": {},
     "output_type": "execute_result"
    }
   ],
   "source": [
    "text[:100]\n"
   ]
  },
  {
   "cell_type": "code",
   "execution_count": 10,
   "id": "ba5a7174-0151-4765-97dd-192731f83a8a",
   "metadata": {},
   "outputs": [
    {
     "name": "stdout",
     "output_type": "stream",
     "text": [
      "length of dataset in characters:  1021628\n"
     ]
    }
   ],
   "source": [
    "print(\"length of dataset in characters: \", len(text))\n"
   ]
  },
  {
   "cell_type": "code",
   "execution_count": 11,
   "id": "447d7b7f-b7df-45a7-9752-07de79ee7c8c",
   "metadata": {},
   "outputs": [
    {
     "name": "stdout",
     "output_type": "stream",
     "text": [
      " !\"#$%&'()*,-./0123456789:;?ABCDEFGHIJKLMNOPQRSTUVWXYZ[]_abcdefghijklmnopqrstuvwxyzà—‘’“”﻿\n",
      "90\n"
     ]
    }
   ],
   "source": [
    "# here are all the unique characters that occur in this text\n",
    "chars = sorted(list(set(text)))\n",
    "vocab_size = len(chars)\n",
    "print(\"\".join(chars))\n",
    "print(vocab_size)\n"
   ]
  },
  {
   "cell_type": "code",
   "execution_count": 12,
   "id": "f4a810d0-5739-40b2-b33c-87bb07ff6d05",
   "metadata": {},
   "outputs": [],
   "source": [
    "s_to_i = {ch: i for i, ch in enumerate(chars)}\n",
    "i_to_s = {i: ch for i, ch in enumerate(chars)}\n",
    "encode = lambda s: [s_to_i[c] for c in s]\n",
    "decode = lambda l: \"\".join([i_to_s[i] for i in l])\n"
   ]
  },
  {
   "cell_type": "code",
   "execution_count": 15,
   "id": "ae1e4013-b575-4b9f-9646-fa750e4f2277",
   "metadata": {},
   "outputs": [
    {
     "name": "stdout",
     "output_type": "stream",
     "text": [
      "[65, 70, 76, 74, 71, 60, 77, 59, 76, 65, 71, 70, 0, 76, 71]\n",
      "introduction to\n"
     ]
    }
   ],
   "source": [
    "print(encode(\"introduction to\"))\n",
    "print(decode(encode(\"introduction to\")))\n"
   ]
  },
  {
   "cell_type": "code",
   "execution_count": 16,
   "id": "e28478d9-c1f4-4039-adea-2e9ddd89f66c",
   "metadata": {},
   "outputs": [
    {
     "name": "stdout",
     "output_type": "stream",
     "text": [
      "torch.Size([1021628]) torch.int64\n",
      "tensor([89, 47, 64, 61,  0, 43, 74, 71, 66, 61, 59, 76,  0, 34, 77, 76, 61, 70,\n",
      "        58, 61, 74, 63,  0, 61, 29, 71, 71, 67,  0, 71, 62,  0, 39, 65, 76, 76,\n",
      "        68, 61,  0, 50, 71, 69, 61, 70, 11,  0, 58, 81,  0, 39, 71, 77, 65, 75,\n",
      "        57,  0, 40, 57, 81,  0, 28, 68, 59, 71, 76, 76,  0, 47, 64, 65, 75,  0,\n",
      "        61, 29, 71, 71, 67,  0, 65, 75,  0, 62, 71, 74,  0, 76, 64, 61,  0, 77,\n",
      "        75, 61,  0, 71, 62,  0, 57, 70, 81, 71, 70, 61,  0, 57, 70, 81, 79, 64,\n",
      "        61, 74, 61,  0, 65, 70,  0, 76, 64, 61,  0, 48, 70, 65, 76, 61, 60,  0,\n",
      "        46, 76, 57, 76, 61, 75,  0, 57, 70, 60,  0, 69, 71, 75, 76,  0, 71, 76,\n",
      "        64, 61, 74,  0, 72, 57, 74, 76, 75,  0, 71, 62,  0, 76, 64, 61,  0, 79,\n",
      "        71, 74, 68, 60,  0, 57, 76,  0, 70, 71,  0, 59, 71, 75, 76,  0, 57, 70,\n",
      "        60,  0, 79, 65, 76, 64,  0, 57, 68, 69, 71, 75, 76,  0, 70, 71,  0, 74,\n",
      "        61, 75, 76, 74, 65, 59, 76, 65, 71, 70, 75,  0, 79, 64, 57, 76, 75, 71,\n",
      "        61, 78, 61, 74, 13,  0, 52, 71, 77,  0, 69, 57, 81,  0, 59, 71, 72, 81,\n",
      "         0, 65, 76, 11,  0, 63, 65, 78, 61,  0, 65, 76,  0, 57, 79, 57, 81,  0,\n",
      "        71, 74,  0, 74, 61, 12, 77, 75, 61,  0, 65, 76,  0, 77, 70, 60, 61, 74,\n",
      "         0, 76, 64, 61,  0, 76, 61, 74, 69, 75,  0, 71, 62,  0, 76, 64, 61,  0,\n",
      "        43, 74, 71, 66, 61, 59, 76,  0, 34, 77, 76, 61, 70, 58, 61, 74, 63,  0,\n",
      "        39, 65, 59, 61, 70, 75, 61,  0, 65, 70, 59, 68, 77, 60, 61, 60,  0, 79,\n",
      "        65, 76, 64,  0, 76, 64, 65, 75,  0, 61, 29, 71, 71, 67,  0, 71, 74,  0,\n",
      "        71, 70, 68, 65, 70, 61,  0, 57, 76,  0, 79, 79, 79, 13, 63, 77, 76, 61,\n",
      "        70, 58, 61, 74, 63, 13, 71, 74, 63, 13,  0, 36, 62,  0, 81, 71, 77,  0,\n",
      "        57, 74, 61,  0, 70, 71, 76,  0, 68, 71, 59, 57, 76, 61, 60,  0, 65, 70,\n",
      "         0, 76, 64, 61,  0, 48, 70, 65, 76, 61, 60,  0, 46, 76, 57, 76, 61, 75,\n",
      "        11,  0, 81, 71, 77,  0, 79, 65, 68, 68,  0, 64, 57, 78, 61,  0, 76, 71,\n",
      "         0, 59, 64, 61, 59, 67,  0, 76, 64, 61,  0, 68, 57, 79, 75,  0, 71, 62,\n",
      "         0, 76, 64, 61,  0, 59, 71, 77, 70, 76, 74, 81,  0, 79, 64, 61, 74, 61,\n",
      "         0, 81, 71, 77,  0, 57, 74, 61,  0, 68, 71, 59, 57, 76, 61, 60,  0, 58,\n",
      "        61, 62, 71, 74, 61,  0, 77, 75, 65, 70, 63,  0, 76, 64, 65, 75,  0, 61,\n",
      "        29, 71, 71, 67, 13,  0, 47, 65, 76, 68, 61, 25,  0, 39, 65, 76, 76, 68,\n",
      "        61,  0, 50, 71, 69, 61, 70,  0, 28, 77, 76, 64, 71, 74, 25,  0, 39, 71,\n",
      "        77, 65, 75, 57,  0, 40, 57, 81,  0, 28, 68, 59, 71, 76, 76,  0, 45, 61,\n",
      "        68, 61, 57, 75, 61,  0, 31, 57, 76, 61, 25,  0, 40, 57, 81, 11,  0, 16,\n",
      "        24, 24, 21,  0, 54, 61, 29, 71, 71, 67,  0,  3, 20, 16, 19, 55,  0, 54,\n",
      "        40, 71, 75, 76,  0, 74, 61, 59, 61, 70, 76, 68, 81,  0, 77, 72, 60, 57,\n",
      "        76, 61, 60, 25,  0, 41, 71, 78, 61, 69, 58, 61, 74,  0, 19, 11,  0, 17,\n",
      "        15, 17, 17, 55,  0, 39, 57, 70, 63, 77, 57, 63, 61, 25,  0, 32, 70, 63,\n",
      "        68, 65, 75, 64,  0, 10, 10, 10,  0, 46, 47, 28, 45, 47,  0, 42, 33,  0,\n",
      "        47, 35, 32,  0, 43, 45, 42, 37, 32, 30, 47,  0, 34, 48, 47, 32, 41, 29,\n",
      "        32, 45, 34,  0, 32, 29, 42, 42, 38,  0, 39, 36, 47, 47, 39, 32,  0, 50,\n",
      "        42, 40, 32, 41,  0, 10, 10, 10,  0, 39, 65, 76, 76, 68, 61,  0, 50, 71,\n",
      "        69, 61, 70,  0, 58, 81,  0, 39, 71, 77, 65, 75, 57,  0, 40, 57, 81,  0,\n",
      "        28, 68, 59, 71, 76, 76,  0, 30, 71, 70, 76, 61, 70, 76, 75,  0, 43, 28,\n",
      "        45, 47,  0, 16,  0, 30, 35, 28, 43, 47, 32, 45,  0, 42, 41, 32,  0, 43,\n",
      "        39, 28, 52, 36, 41, 34,  0, 43, 36, 39, 34, 45, 36, 40, 46,  0, 30, 35,\n",
      "        28, 43, 47, 32, 45,  0, 47, 50, 42,  0, 28,  0, 40, 32, 45, 45, 52,  0,\n",
      "        30, 35, 45, 36, 46, 47, 40, 28, 46,  0, 30, 35, 28, 43, 47, 32, 45,  0,\n",
      "        47, 35, 45, 32, 32,  0, 47, 35, 32,  0, 39, 28, 48, 45, 32, 41, 30, 32,\n",
      "         0, 29, 42, 52,  0, 30, 35, 28, 43, 47, 32, 45,  0, 33, 42, 48, 45,  0,\n",
      "        29, 48, 45, 31, 32, 41, 46,  0, 30, 35, 28, 43, 47, 32, 45,  0, 33, 36,\n",
      "        49, 32,  0, 29, 32, 36, 41, 34,  0, 41, 32, 36, 34, 35, 29, 42, 45, 39,\n",
      "        52,  0, 30, 35, 28, 43, 47, 32, 45,  0, 46, 36, 51,  0, 29, 32, 47, 35,\n",
      "         0, 33, 36, 41, 31, 46,  0, 47, 35, 32,  0, 43, 28, 39, 28, 30, 32,  0,\n",
      "        29, 32, 28, 48, 47, 36, 33, 48, 39,  0, 30, 35, 28, 43, 47, 32, 45,  0,\n",
      "        46, 32, 49, 32, 41,  0, 28, 40, 52, 86, 46,  0, 49, 28, 39, 39, 32, 52,\n",
      "         0, 42, 33,  0, 35, 48, 40, 36, 39, 36, 28, 47, 36, 42, 41,  0, 30, 35,\n",
      "        28, 43, 47, 32, 45,  0, 32, 36, 34, 35])\n"
     ]
    }
   ],
   "source": [
    "# let's encode the text dataset and save it into a torch.Tensor\n",
    "import torch\n",
    "\n",
    "data = torch.tensor(encode(text), dtype=torch.long)\n",
    "print(data.shape, data.dtype)\n",
    "print(data[:1000])\n"
   ]
  },
  {
   "cell_type": "code",
   "execution_count": 47,
   "id": "7bff977a-4398-430b-b24f-2bc0979ae2e7",
   "metadata": {},
   "outputs": [],
   "source": [
    "import tiktoken\n",
    "\n",
    "enc = tiktoken.encoding_for_model(\"gpt-4\")\n"
   ]
  },
  {
   "cell_type": "code",
   "execution_count": 21,
   "id": "9154954a-49c5-44fb-95e8-ea9bdbf2d6ac",
   "metadata": {},
   "outputs": [
    {
     "data": {
      "text/plain": [
       "100277"
      ]
     },
     "execution_count": 21,
     "metadata": {},
     "output_type": "execute_result"
    }
   ],
   "source": [
    "enc.n_vocab\n"
   ]
  },
  {
   "cell_type": "code",
   "execution_count": 22,
   "id": "a11b061e-5f16-480d-9610-ae6ad0874c02",
   "metadata": {},
   "outputs": [
    {
     "data": {
      "text/plain": [
       "[396, 17158, 311]"
      ]
     },
     "execution_count": 22,
     "metadata": {},
     "output_type": "execute_result"
    }
   ],
   "source": [
    "enc.encode(\"introduction to\")\n"
   ]
  },
  {
   "cell_type": "code",
   "execution_count": 28,
   "id": "b8337af1-79ce-42de-8948-d88736c2ca5c",
   "metadata": {},
   "outputs": [
    {
     "data": {
      "text/plain": [
       "'introduction to'"
      ]
     },
     "execution_count": 28,
     "metadata": {},
     "output_type": "execute_result"
    }
   ],
   "source": [
    "enc.decode([396, 17158, 311])\n"
   ]
  },
  {
   "cell_type": "code",
   "execution_count": null,
   "id": "9b17be19-7cde-46dc-91c6-36f488aee9ca",
   "metadata": {},
   "outputs": [],
   "source": [
    "# enc.encode(\"introduce to\")\n"
   ]
  },
  {
   "attachments": {},
   "cell_type": "markdown",
   "id": "98e85736-3f48-4c1f-b246-dc0e98a16867",
   "metadata": {},
   "source": [
    "## Lemmatization"
   ]
  },
  {
   "cell_type": "code",
   "execution_count": 50,
   "id": "007daf61-f8ca-4190-b890-4747ac070c9c",
   "metadata": {},
   "outputs": [
    {
     "name": "stderr",
     "output_type": "stream",
     "text": [
      "[nltk_data] Downloading package wordnet to /Users/faizan/nltk_data...\n",
      "[nltk_data] Downloading package omw-1.4 to /Users/faizan/nltk_data...\n"
     ]
    },
    {
     "data": {
      "text/plain": [
       "True"
      ]
     },
     "execution_count": 50,
     "metadata": {},
     "output_type": "execute_result"
    }
   ],
   "source": [
    "from nltk.stem import WordNetLemmatizer\n",
    "\n",
    "import nltk\n",
    "\n",
    "nltk.download(\"wordnet\")\n",
    "nltk.download(\"omw-1.4\")\n"
   ]
  },
  {
   "cell_type": "code",
   "execution_count": 51,
   "id": "d0ff1299-a78c-444b-8232-543e127b513e",
   "metadata": {},
   "outputs": [
    {
     "name": "stdout",
     "output_type": "stream",
     "text": [
      "worst\n",
      "born\n"
     ]
    }
   ],
   "source": [
    "lemmatizer = WordNetLemmatizer()\n",
    "\n",
    "print(lemmatizer.lemmatize(\"worst\"))\n",
    "print(lemmatizer.lemmatize(\"born\"))\n"
   ]
  },
  {
   "cell_type": "code",
   "execution_count": 62,
   "id": "f53b6b4c-1e91-406d-ae46-b5b7a7cbd7e2",
   "metadata": {},
   "outputs": [
    {
     "name": "stdout",
     "output_type": "stream",
     "text": [
      "bad\n",
      "bear\n"
     ]
    }
   ],
   "source": [
    "# Does it work well?\n",
    "print(lemmatizer.lemmatize(\"worst\", pos=\"a\"))\n",
    "print(lemmatizer.lemmatize(\"born\", pos=\"v\"))\n"
   ]
  },
  {
   "attachments": {},
   "cell_type": "markdown",
   "id": "66c446ae-2ca2-41ad-9558-99de6580765e",
   "metadata": {},
   "source": [
    "## Stemming"
   ]
  },
  {
   "cell_type": "code",
   "execution_count": 59,
   "id": "557667e6-c208-4c4d-a4e2-aa8271705a8f",
   "metadata": {},
   "outputs": [],
   "source": [
    "from nltk.stem import PorterStemmer\n"
   ]
  },
  {
   "cell_type": "code",
   "execution_count": 60,
   "id": "3b1ba987-5031-434b-ad10-53478658cd59",
   "metadata": {},
   "outputs": [
    {
     "data": {
      "text/plain": [
       "'help'"
      ]
     },
     "execution_count": 60,
     "metadata": {},
     "output_type": "execute_result"
    }
   ],
   "source": [
    "stemmer = PorterStemmer()\n",
    "stemmer.stem(\"helping\")\n"
   ]
  },
  {
   "attachments": {},
   "cell_type": "markdown",
   "id": "0be0abcd",
   "metadata": {},
   "source": [
    "## Pandas\n",
    "\n",
    "Take the survey.csv file as an example ..."
   ]
  },
  {
   "cell_type": "code",
   "execution_count": 53,
   "id": "e14ca903",
   "metadata": {},
   "outputs": [],
   "source": [
    "import pandas as pd\n"
   ]
  },
  {
   "cell_type": "code",
   "execution_count": 61,
   "id": "5e26829a",
   "metadata": {},
   "outputs": [
    {
     "data": {
      "text/html": [
       "<div>\n",
       "<style scoped>\n",
       "    .dataframe tbody tr th:only-of-type {\n",
       "        vertical-align: middle;\n",
       "    }\n",
       "\n",
       "    .dataframe tbody tr th {\n",
       "        vertical-align: top;\n",
       "    }\n",
       "\n",
       "    .dataframe thead th {\n",
       "        text-align: right;\n",
       "    }\n",
       "</style>\n",
       "<table border=\"1\" class=\"dataframe\">\n",
       "  <thead>\n",
       "    <tr style=\"text-align: right;\">\n",
       "      <th></th>\n",
       "      <th>Alias</th>\n",
       "      <th>Degree</th>\n",
       "      <th>Study Program</th>\n",
       "      <th>Experience_Python</th>\n",
       "      <th>Experience_Programming</th>\n",
       "      <th>Course</th>\n",
       "      <th>City</th>\n",
       "    </tr>\n",
       "  </thead>\n",
       "  <tbody>\n",
       "    <tr>\n",
       "      <th>0</th>\n",
       "      <td>Florian</td>\n",
       "      <td>MSc.</td>\n",
       "      <td>Computer Science</td>\n",
       "      <td>5</td>\n",
       "      <td>5</td>\n",
       "      <td>ML &amp; AI</td>\n",
       "      <td>Bonn</td>\n",
       "    </tr>\n",
       "    <tr>\n",
       "      <th>1</th>\n",
       "      <td>Daria</td>\n",
       "      <td>MSc.</td>\n",
       "      <td>Computer Science</td>\n",
       "      <td>3</td>\n",
       "      <td>3</td>\n",
       "      <td>NaN</td>\n",
       "      <td>Bonn</td>\n",
       "    </tr>\n",
       "    <tr>\n",
       "      <th>2</th>\n",
       "      <td>Behzad</td>\n",
       "      <td>MSc.</td>\n",
       "      <td>Computer Science</td>\n",
       "      <td>5</td>\n",
       "      <td>5</td>\n",
       "      <td>ML &amp; AI</td>\n",
       "      <td>Bonn</td>\n",
       "    </tr>\n",
       "    <tr>\n",
       "      <th>3</th>\n",
       "      <td>Jakob</td>\n",
       "      <td>MSc.</td>\n",
       "      <td>Computer Science</td>\n",
       "      <td>4</td>\n",
       "      <td>4</td>\n",
       "      <td>ML</td>\n",
       "      <td>Bonn</td>\n",
       "    </tr>\n",
       "    <tr>\n",
       "      <th>4</th>\n",
       "      <td>Max</td>\n",
       "      <td>MSc.</td>\n",
       "      <td>Computer Science</td>\n",
       "      <td>4</td>\n",
       "      <td>3</td>\n",
       "      <td>NaN</td>\n",
       "      <td>Bonn</td>\n",
       "    </tr>\n",
       "    <tr>\n",
       "      <th>5</th>\n",
       "      <td>Nico</td>\n",
       "      <td>BSc.</td>\n",
       "      <td>Mathematics</td>\n",
       "      <td>4</td>\n",
       "      <td>4</td>\n",
       "      <td>NaN</td>\n",
       "      <td>Cologne</td>\n",
       "    </tr>\n",
       "    <tr>\n",
       "      <th>6</th>\n",
       "      <td>Syed Mehdi</td>\n",
       "      <td>MSc.</td>\n",
       "      <td>Computer Science</td>\n",
       "      <td>3</td>\n",
       "      <td>5</td>\n",
       "      <td>NaN</td>\n",
       "      <td>Bonn</td>\n",
       "    </tr>\n",
       "    <tr>\n",
       "      <th>7</th>\n",
       "      <td>Arwin</td>\n",
       "      <td>BSc.</td>\n",
       "      <td>Computer Science</td>\n",
       "      <td>4</td>\n",
       "      <td>3</td>\n",
       "      <td>NaN</td>\n",
       "      <td>Cologne</td>\n",
       "    </tr>\n",
       "    <tr>\n",
       "      <th>8</th>\n",
       "      <td>Arthi</td>\n",
       "      <td>BSc.</td>\n",
       "      <td>Informatik</td>\n",
       "      <td>1</td>\n",
       "      <td>3</td>\n",
       "      <td>NaN</td>\n",
       "      <td>Bonn</td>\n",
       "    </tr>\n",
       "    <tr>\n",
       "      <th>9</th>\n",
       "      <td>Ruben</td>\n",
       "      <td>MSc.</td>\n",
       "      <td>Computer Science</td>\n",
       "      <td>2</td>\n",
       "      <td>3</td>\n",
       "      <td>NaN</td>\n",
       "      <td>Bonn</td>\n",
       "    </tr>\n",
       "  </tbody>\n",
       "</table>\n",
       "</div>"
      ],
      "text/plain": [
       "        Alias Degree     Study Program Experience_Python   \n",
       "0     Florian   MSc.  Computer Science                 5  \\\n",
       "1       Daria   MSc.  Computer Science                 3   \n",
       "2      Behzad   MSc.  Computer Science                 5   \n",
       "3       Jakob   MSc.  Computer Science                 4   \n",
       "4         Max   MSc.  Computer Science                 4   \n",
       "5        Nico   BSc.       Mathematics                 4   \n",
       "6  Syed Mehdi   MSc.  Computer Science                 3   \n",
       "7       Arwin   BSc.  Computer Science                 4   \n",
       "8       Arthi   BSc.        Informatik                 1   \n",
       "9       Ruben   MSc.  Computer Science                 2   \n",
       "\n",
       "  Experience_Programming   Course     City  \n",
       "0                      5  ML & AI     Bonn  \n",
       "1                      3      NaN     Bonn  \n",
       "2                      5  ML & AI     Bonn  \n",
       "3                      4       ML     Bonn  \n",
       "4                      3      NaN     Bonn  \n",
       "5                      4      NaN  Cologne  \n",
       "6                      5      NaN     Bonn  \n",
       "7                      3      NaN  Cologne  \n",
       "8                      3      NaN     Bonn  \n",
       "9                      3      NaN     Bonn  "
      ]
     },
     "execution_count": 61,
     "metadata": {},
     "output_type": "execute_result"
    }
   ],
   "source": [
    "# Read the CSV file\n",
    "df = pd.read_csv(\"Survey.csv\", sep=\";\")\n",
    "df.head(10)\n"
   ]
  },
  {
   "attachments": {},
   "cell_type": "markdown",
   "id": "6021d854-9a0a-4b8c-9175-7939481909b6",
   "metadata": {},
   "source": [
    "## Pandas Series\n",
    "\n",
    "Pandas has two data structures that we will consider in this class, `Series` and `DataFrame`. Let's take a closer look at `Series`. At first glance, it's like playing around with a `list`. We already know what a list is and why this data structure is relevant. `Series` is also very similar, but Pandas allows index naming, making everything much easier to read."
   ]
  },
  {
   "cell_type": "code",
   "execution_count": 43,
   "id": "7ea2f55f-17d0-4c0a-8407-b393a02d0c25",
   "metadata": {},
   "outputs": [],
   "source": [
    "list1 = \"This is the first document\".split(\" \")\n"
   ]
  },
  {
   "cell_type": "code",
   "execution_count": 44,
   "id": "483507b5-cb63-4dab-a08a-413b469c424f",
   "metadata": {},
   "outputs": [
    {
     "name": "stdout",
     "output_type": "stream",
     "text": [
      "['This', 'is', 'the', 'first', 'document']\n"
     ]
    }
   ],
   "source": [
    "print(list1)\n"
   ]
  },
  {
   "cell_type": "code",
   "execution_count": 45,
   "id": "92b51848-c08b-4357-a618-ffc36793dcc5",
   "metadata": {},
   "outputs": [],
   "source": [
    "my_series = pd.Series(list1)\n"
   ]
  },
  {
   "cell_type": "code",
   "execution_count": 46,
   "id": "fdbd1a72-92d0-488d-aa28-2750201094e4",
   "metadata": {},
   "outputs": [
    {
     "data": {
      "text/plain": [
       "0        This\n",
       "1          is\n",
       "2         the\n",
       "3       first\n",
       "4    document\n",
       "dtype: object"
      ]
     },
     "execution_count": 46,
     "metadata": {},
     "output_type": "execute_result"
    }
   ],
   "source": [
    "my_series\n"
   ]
  },
  {
   "cell_type": "code",
   "execution_count": 47,
   "id": "ab5fa272-f2e6-449c-b82b-a1bd2d7e9bc1",
   "metadata": {},
   "outputs": [],
   "source": [
    "my_dict = {\"this\": 0, \"is\": 1, \"the\": 2, \"first\": 3, \"document\": 4}\n",
    "my_index = [0, 1, 2, 3, 4]\n"
   ]
  },
  {
   "cell_type": "code",
   "execution_count": 48,
   "id": "cf332d02-179e-4620-b029-7a3eaaca7b72",
   "metadata": {},
   "outputs": [],
   "source": [
    "series1 = pd.Series(my_dict)\n"
   ]
  },
  {
   "cell_type": "code",
   "execution_count": 49,
   "id": "1c83950b-f302-4a5d-bc69-050719d91492",
   "metadata": {},
   "outputs": [
    {
     "data": {
      "text/plain": [
       "this        0\n",
       "is          1\n",
       "the         2\n",
       "first       3\n",
       "document    4\n",
       "dtype: int64"
      ]
     },
     "execution_count": 49,
     "metadata": {},
     "output_type": "execute_result"
    }
   ],
   "source": [
    "series1\n"
   ]
  },
  {
   "cell_type": "code",
   "execution_count": 50,
   "id": "ec0180de-5224-43bd-b64f-c2c7acbaf8b8",
   "metadata": {},
   "outputs": [],
   "source": [
    "list2 = \"this document is the second document\".split(\" \")\n",
    "series2 = pd.Series(data=[0, 1, 2, 3, 4, 5], index=list2)\n"
   ]
  },
  {
   "cell_type": "code",
   "execution_count": 51,
   "id": "011d9470-341c-4c31-b00e-a0b0603e35ee",
   "metadata": {},
   "outputs": [
    {
     "data": {
      "text/plain": [
       "this        0\n",
       "document    1\n",
       "is          2\n",
       "the         3\n",
       "second      4\n",
       "document    5\n",
       "dtype: int64"
      ]
     },
     "execution_count": 51,
     "metadata": {},
     "output_type": "execute_result"
    }
   ],
   "source": [
    "series2\n"
   ]
  },
  {
   "attachments": {},
   "cell_type": "markdown",
   "id": "c9c7c106-1487-4639-99de-c242e821dd0a",
   "metadata": {},
   "source": [
    "## DataFrame\n",
    "\n",
    "Now, let's take a look at what is a DataFrame. We can define it as several Series units that share the same index since we already know the Series data structure. Here, we will use Numpy to create a random matrix having setting also a common seed. Do you know why?"
   ]
  },
  {
   "cell_type": "code",
   "execution_count": 62,
   "id": "61997d6f-bd4a-465f-854a-965e671ae12d",
   "metadata": {},
   "outputs": [],
   "source": [
    "from numpy.random import randn\n",
    "\n",
    "np.random.seed(123)\n"
   ]
  },
  {
   "cell_type": "code",
   "execution_count": 63,
   "id": "da5b6107-e46f-40d2-b32c-2229463fef9e",
   "metadata": {},
   "outputs": [],
   "source": [
    "df1 = pd.DataFrame(randn(5, 4), index=[0, 1, 2, 3, 4], columns=\"A B C D\".split(\" \"))\n"
   ]
  },
  {
   "cell_type": "code",
   "execution_count": 66,
   "id": "1bff7afb-b0e5-4697-b974-d55c2412b795",
   "metadata": {},
   "outputs": [
    {
     "data": {
      "text/html": [
       "<div>\n",
       "<style scoped>\n",
       "    .dataframe tbody tr th:only-of-type {\n",
       "        vertical-align: middle;\n",
       "    }\n",
       "\n",
       "    .dataframe tbody tr th {\n",
       "        vertical-align: top;\n",
       "    }\n",
       "\n",
       "    .dataframe thead th {\n",
       "        text-align: right;\n",
       "    }\n",
       "</style>\n",
       "<table border=\"1\" class=\"dataframe\">\n",
       "  <thead>\n",
       "    <tr style=\"text-align: right;\">\n",
       "      <th></th>\n",
       "      <th>A</th>\n",
       "      <th>B</th>\n",
       "      <th>C</th>\n",
       "      <th>D</th>\n",
       "    </tr>\n",
       "  </thead>\n",
       "  <tbody>\n",
       "    <tr>\n",
       "      <th>0</th>\n",
       "      <td>-1.085631</td>\n",
       "      <td>0.997345</td>\n",
       "      <td>0.282978</td>\n",
       "      <td>-1.506295</td>\n",
       "    </tr>\n",
       "    <tr>\n",
       "      <th>1</th>\n",
       "      <td>-0.578600</td>\n",
       "      <td>1.651437</td>\n",
       "      <td>-2.426679</td>\n",
       "      <td>-0.428913</td>\n",
       "    </tr>\n",
       "    <tr>\n",
       "      <th>2</th>\n",
       "      <td>1.265936</td>\n",
       "      <td>-0.866740</td>\n",
       "      <td>-0.678886</td>\n",
       "      <td>-0.094709</td>\n",
       "    </tr>\n",
       "    <tr>\n",
       "      <th>3</th>\n",
       "      <td>1.491390</td>\n",
       "      <td>-0.638902</td>\n",
       "      <td>-0.443982</td>\n",
       "      <td>-0.434351</td>\n",
       "    </tr>\n",
       "    <tr>\n",
       "      <th>4</th>\n",
       "      <td>2.205930</td>\n",
       "      <td>2.186786</td>\n",
       "      <td>1.004054</td>\n",
       "      <td>0.386186</td>\n",
       "    </tr>\n",
       "  </tbody>\n",
       "</table>\n",
       "</div>"
      ],
      "text/plain": [
       "          A         B         C         D\n",
       "0 -1.085631  0.997345  0.282978 -1.506295\n",
       "1 -0.578600  1.651437 -2.426679 -0.428913\n",
       "2  1.265936 -0.866740 -0.678886 -0.094709\n",
       "3  1.491390 -0.638902 -0.443982 -0.434351\n",
       "4  2.205930  2.186786  1.004054  0.386186"
      ]
     },
     "metadata": {},
     "output_type": "display_data"
    }
   ],
   "source": [
    "display(df1)\n"
   ]
  },
  {
   "attachments": {},
   "cell_type": "markdown",
   "id": "7ec113f0-3131-4fc4-922f-75f25094851e",
   "metadata": {},
   "source": [
    "### Indexing DataFrames\n",
    "\n",
    "Here things begin to turn a bit different. If we want to index one column, then we just call it by its name, but if we want several columns, we will need to give them as a list."
   ]
  },
  {
   "cell_type": "code",
   "execution_count": 67,
   "id": "3a703f9d-b9a5-467f-b5b9-0e76ba624c90",
   "metadata": {},
   "outputs": [
    {
     "data": {
      "text/plain": [
       "0    0.997345\n",
       "1    1.651437\n",
       "2   -0.866740\n",
       "3   -0.638902\n",
       "4    2.186786\n",
       "Name: B, dtype: float64"
      ]
     },
     "metadata": {},
     "output_type": "display_data"
    }
   ],
   "source": [
    "df1[\"B\"]\n"
   ]
  },
  {
   "cell_type": "code",
   "execution_count": 68,
   "id": "4f82e9c6-1391-42ae-9a76-65355ca7631c",
   "metadata": {},
   "outputs": [
    {
     "data": {
      "text/html": [
       "<div>\n",
       "<style scoped>\n",
       "    .dataframe tbody tr th:only-of-type {\n",
       "        vertical-align: middle;\n",
       "    }\n",
       "\n",
       "    .dataframe tbody tr th {\n",
       "        vertical-align: top;\n",
       "    }\n",
       "\n",
       "    .dataframe thead th {\n",
       "        text-align: right;\n",
       "    }\n",
       "</style>\n",
       "<table border=\"1\" class=\"dataframe\">\n",
       "  <thead>\n",
       "    <tr style=\"text-align: right;\">\n",
       "      <th></th>\n",
       "      <th>C</th>\n",
       "      <th>D</th>\n",
       "    </tr>\n",
       "  </thead>\n",
       "  <tbody>\n",
       "    <tr>\n",
       "      <th>0</th>\n",
       "      <td>0.282978</td>\n",
       "      <td>-1.506295</td>\n",
       "    </tr>\n",
       "    <tr>\n",
       "      <th>1</th>\n",
       "      <td>-2.426679</td>\n",
       "      <td>-0.428913</td>\n",
       "    </tr>\n",
       "    <tr>\n",
       "      <th>2</th>\n",
       "      <td>-0.678886</td>\n",
       "      <td>-0.094709</td>\n",
       "    </tr>\n",
       "    <tr>\n",
       "      <th>3</th>\n",
       "      <td>-0.443982</td>\n",
       "      <td>-0.434351</td>\n",
       "    </tr>\n",
       "    <tr>\n",
       "      <th>4</th>\n",
       "      <td>1.004054</td>\n",
       "      <td>0.386186</td>\n",
       "    </tr>\n",
       "  </tbody>\n",
       "</table>\n",
       "</div>"
      ],
      "text/plain": [
       "          C         D\n",
       "0  0.282978 -1.506295\n",
       "1 -2.426679 -0.428913\n",
       "2 -0.678886 -0.094709\n",
       "3 -0.443982 -0.434351\n",
       "4  1.004054  0.386186"
      ]
     },
     "execution_count": 68,
     "metadata": {},
     "output_type": "execute_result"
    }
   ],
   "source": [
    "df1[[\"C\", \"D\"]]\n"
   ]
  },
  {
   "cell_type": "code",
   "execution_count": 69,
   "id": "b0aba7cf-87b5-44bc-bc80-740e7d0e0b36",
   "metadata": {},
   "outputs": [],
   "source": [
    "df1[\"E\"] = df1[\"A\"] * df1[\"D\"]\n"
   ]
  },
  {
   "cell_type": "code",
   "execution_count": 70,
   "id": "365b6f32-2349-4368-b637-9e050a1c1bd0",
   "metadata": {},
   "outputs": [
    {
     "data": {
      "text/html": [
       "<div>\n",
       "<style scoped>\n",
       "    .dataframe tbody tr th:only-of-type {\n",
       "        vertical-align: middle;\n",
       "    }\n",
       "\n",
       "    .dataframe tbody tr th {\n",
       "        vertical-align: top;\n",
       "    }\n",
       "\n",
       "    .dataframe thead th {\n",
       "        text-align: right;\n",
       "    }\n",
       "</style>\n",
       "<table border=\"1\" class=\"dataframe\">\n",
       "  <thead>\n",
       "    <tr style=\"text-align: right;\">\n",
       "      <th></th>\n",
       "      <th>A</th>\n",
       "      <th>B</th>\n",
       "      <th>C</th>\n",
       "      <th>D</th>\n",
       "      <th>E</th>\n",
       "    </tr>\n",
       "  </thead>\n",
       "  <tbody>\n",
       "    <tr>\n",
       "      <th>0</th>\n",
       "      <td>-1.085631</td>\n",
       "      <td>0.997345</td>\n",
       "      <td>0.282978</td>\n",
       "      <td>-1.506295</td>\n",
       "      <td>1.635280</td>\n",
       "    </tr>\n",
       "    <tr>\n",
       "      <th>1</th>\n",
       "      <td>-0.578600</td>\n",
       "      <td>1.651437</td>\n",
       "      <td>-2.426679</td>\n",
       "      <td>-0.428913</td>\n",
       "      <td>0.248169</td>\n",
       "    </tr>\n",
       "    <tr>\n",
       "      <th>2</th>\n",
       "      <td>1.265936</td>\n",
       "      <td>-0.866740</td>\n",
       "      <td>-0.678886</td>\n",
       "      <td>-0.094709</td>\n",
       "      <td>-0.119896</td>\n",
       "    </tr>\n",
       "    <tr>\n",
       "      <th>3</th>\n",
       "      <td>1.491390</td>\n",
       "      <td>-0.638902</td>\n",
       "      <td>-0.443982</td>\n",
       "      <td>-0.434351</td>\n",
       "      <td>-0.647787</td>\n",
       "    </tr>\n",
       "    <tr>\n",
       "      <th>4</th>\n",
       "      <td>2.205930</td>\n",
       "      <td>2.186786</td>\n",
       "      <td>1.004054</td>\n",
       "      <td>0.386186</td>\n",
       "      <td>0.851900</td>\n",
       "    </tr>\n",
       "  </tbody>\n",
       "</table>\n",
       "</div>"
      ],
      "text/plain": [
       "          A         B         C         D         E\n",
       "0 -1.085631  0.997345  0.282978 -1.506295  1.635280\n",
       "1 -0.578600  1.651437 -2.426679 -0.428913  0.248169\n",
       "2  1.265936 -0.866740 -0.678886 -0.094709 -0.119896\n",
       "3  1.491390 -0.638902 -0.443982 -0.434351 -0.647787\n",
       "4  2.205930  2.186786  1.004054  0.386186  0.851900"
      ]
     },
     "execution_count": 70,
     "metadata": {},
     "output_type": "execute_result"
    }
   ],
   "source": [
    "df1\n"
   ]
  },
  {
   "cell_type": "code",
   "execution_count": 71,
   "id": "f9d2ab6d-b565-476a-b7e0-184873da54fd",
   "metadata": {},
   "outputs": [],
   "source": [
    "df1.drop(\"E\", axis=1, inplace=True)\n"
   ]
  },
  {
   "cell_type": "code",
   "execution_count": 72,
   "id": "1f3ef761-d9b2-428f-9636-b1d1fc36d315",
   "metadata": {},
   "outputs": [
    {
     "data": {
      "text/html": [
       "<div>\n",
       "<style scoped>\n",
       "    .dataframe tbody tr th:only-of-type {\n",
       "        vertical-align: middle;\n",
       "    }\n",
       "\n",
       "    .dataframe tbody tr th {\n",
       "        vertical-align: top;\n",
       "    }\n",
       "\n",
       "    .dataframe thead th {\n",
       "        text-align: right;\n",
       "    }\n",
       "</style>\n",
       "<table border=\"1\" class=\"dataframe\">\n",
       "  <thead>\n",
       "    <tr style=\"text-align: right;\">\n",
       "      <th></th>\n",
       "      <th>A</th>\n",
       "      <th>B</th>\n",
       "      <th>C</th>\n",
       "      <th>D</th>\n",
       "    </tr>\n",
       "  </thead>\n",
       "  <tbody>\n",
       "    <tr>\n",
       "      <th>0</th>\n",
       "      <td>-1.085631</td>\n",
       "      <td>0.997345</td>\n",
       "      <td>0.282978</td>\n",
       "      <td>-1.506295</td>\n",
       "    </tr>\n",
       "    <tr>\n",
       "      <th>1</th>\n",
       "      <td>-0.578600</td>\n",
       "      <td>1.651437</td>\n",
       "      <td>-2.426679</td>\n",
       "      <td>-0.428913</td>\n",
       "    </tr>\n",
       "    <tr>\n",
       "      <th>2</th>\n",
       "      <td>1.265936</td>\n",
       "      <td>-0.866740</td>\n",
       "      <td>-0.678886</td>\n",
       "      <td>-0.094709</td>\n",
       "    </tr>\n",
       "    <tr>\n",
       "      <th>3</th>\n",
       "      <td>1.491390</td>\n",
       "      <td>-0.638902</td>\n",
       "      <td>-0.443982</td>\n",
       "      <td>-0.434351</td>\n",
       "    </tr>\n",
       "    <tr>\n",
       "      <th>4</th>\n",
       "      <td>2.205930</td>\n",
       "      <td>2.186786</td>\n",
       "      <td>1.004054</td>\n",
       "      <td>0.386186</td>\n",
       "    </tr>\n",
       "  </tbody>\n",
       "</table>\n",
       "</div>"
      ],
      "text/plain": [
       "          A         B         C         D\n",
       "0 -1.085631  0.997345  0.282978 -1.506295\n",
       "1 -0.578600  1.651437 -2.426679 -0.428913\n",
       "2  1.265936 -0.866740 -0.678886 -0.094709\n",
       "3  1.491390 -0.638902 -0.443982 -0.434351\n",
       "4  2.205930  2.186786  1.004054  0.386186"
      ]
     },
     "execution_count": 72,
     "metadata": {},
     "output_type": "execute_result"
    }
   ],
   "source": [
    "df1\n"
   ]
  },
  {
   "attachments": {},
   "cell_type": "markdown",
   "id": "62469b20-6426-4f31-95d6-a953b2d0368f",
   "metadata": {},
   "source": [
    "### Apply\n",
    "\n",
    "Pandas allows to apply a function to a `Series`, which might be sometimes super useful. Let's take a look at that."
   ]
  },
  {
   "cell_type": "code",
   "execution_count": 63,
   "id": "5bd6e78a-6b7a-4879-a959-f34862835eea",
   "metadata": {},
   "outputs": [],
   "source": [
    "corpus = [\n",
    "    \"This is the first document\",\n",
    "    \"This document is the second document\",\n",
    "    \"And this is the third one\",\n",
    "    \"Is this the first document\",\n",
    "]\n"
   ]
  },
  {
   "cell_type": "code",
   "execution_count": 64,
   "id": "23de13de-bcbb-4bb5-9c39-2d5c28a526a2",
   "metadata": {},
   "outputs": [],
   "source": [
    "df2 = pd.DataFrame(corpus, columns=[\"text\"])\n"
   ]
  },
  {
   "cell_type": "code",
   "execution_count": 65,
   "id": "4166c339-5d6b-491f-a6e9-0667746d15ac",
   "metadata": {},
   "outputs": [
    {
     "data": {
      "text/html": [
       "<div>\n",
       "<style scoped>\n",
       "    .dataframe tbody tr th:only-of-type {\n",
       "        vertical-align: middle;\n",
       "    }\n",
       "\n",
       "    .dataframe tbody tr th {\n",
       "        vertical-align: top;\n",
       "    }\n",
       "\n",
       "    .dataframe thead th {\n",
       "        text-align: right;\n",
       "    }\n",
       "</style>\n",
       "<table border=\"1\" class=\"dataframe\">\n",
       "  <thead>\n",
       "    <tr style=\"text-align: right;\">\n",
       "      <th></th>\n",
       "      <th>text</th>\n",
       "    </tr>\n",
       "  </thead>\n",
       "  <tbody>\n",
       "    <tr>\n",
       "      <th>0</th>\n",
       "      <td>This is the first document</td>\n",
       "    </tr>\n",
       "    <tr>\n",
       "      <th>1</th>\n",
       "      <td>This document is the second document</td>\n",
       "    </tr>\n",
       "    <tr>\n",
       "      <th>2</th>\n",
       "      <td>And this is the third one</td>\n",
       "    </tr>\n",
       "    <tr>\n",
       "      <th>3</th>\n",
       "      <td>Is this the first document</td>\n",
       "    </tr>\n",
       "  </tbody>\n",
       "</table>\n",
       "</div>"
      ],
      "text/plain": [
       "                                   text\n",
       "0            This is the first document\n",
       "1  This document is the second document\n",
       "2             And this is the third one\n",
       "3            Is this the first document"
      ]
     },
     "execution_count": 65,
     "metadata": {},
     "output_type": "execute_result"
    }
   ],
   "source": [
    "df2\n"
   ]
  },
  {
   "cell_type": "code",
   "execution_count": 66,
   "id": "5e7475d0-c43c-4309-b558-21720448b662",
   "metadata": {},
   "outputs": [],
   "source": [
    "def count_words(any_string):\n",
    "    return len(any_string.split(\" \"))\n"
   ]
  },
  {
   "cell_type": "code",
   "execution_count": 67,
   "id": "8d1c073e-d76e-48ca-afbb-bf467378029a",
   "metadata": {},
   "outputs": [],
   "source": [
    "# Add a new column to DF >> \"count_words\"\n",
    "df2[\"count_words\"] = df2[\"text\"].apply(count_words)\n"
   ]
  },
  {
   "cell_type": "code",
   "execution_count": 69,
   "id": "eafa6b03-9369-4824-9e5f-bbae53fbcea3",
   "metadata": {},
   "outputs": [
    {
     "data": {
      "text/html": [
       "<div>\n",
       "<style scoped>\n",
       "    .dataframe tbody tr th:only-of-type {\n",
       "        vertical-align: middle;\n",
       "    }\n",
       "\n",
       "    .dataframe tbody tr th {\n",
       "        vertical-align: top;\n",
       "    }\n",
       "\n",
       "    .dataframe thead th {\n",
       "        text-align: right;\n",
       "    }\n",
       "</style>\n",
       "<table border=\"1\" class=\"dataframe\">\n",
       "  <thead>\n",
       "    <tr style=\"text-align: right;\">\n",
       "      <th></th>\n",
       "      <th>text</th>\n",
       "      <th>count_words</th>\n",
       "    </tr>\n",
       "  </thead>\n",
       "  <tbody>\n",
       "    <tr>\n",
       "      <th>0</th>\n",
       "      <td>This is the first document</td>\n",
       "      <td>5</td>\n",
       "    </tr>\n",
       "    <tr>\n",
       "      <th>1</th>\n",
       "      <td>This document is the second document</td>\n",
       "      <td>6</td>\n",
       "    </tr>\n",
       "    <tr>\n",
       "      <th>2</th>\n",
       "      <td>And this is the third one</td>\n",
       "      <td>6</td>\n",
       "    </tr>\n",
       "    <tr>\n",
       "      <th>3</th>\n",
       "      <td>Is this the first document</td>\n",
       "      <td>5</td>\n",
       "    </tr>\n",
       "  </tbody>\n",
       "</table>\n",
       "</div>"
      ],
      "text/plain": [
       "                                   text  count_words\n",
       "0            This is the first document            5\n",
       "1  This document is the second document            6\n",
       "2             And this is the third one            6\n",
       "3            Is this the first document            5"
      ]
     },
     "execution_count": 69,
     "metadata": {},
     "output_type": "execute_result"
    }
   ],
   "source": [
    "df2\n"
   ]
  },
  {
   "attachments": {},
   "cell_type": "markdown",
   "id": "f0ab7680-9575-4550-8c69-ec9992747606",
   "metadata": {},
   "source": [
    "### Visualization"
   ]
  },
  {
   "cell_type": "code",
   "execution_count": 71,
   "id": "c2d3a20c-8365-4402-8f68-f13af5248162",
   "metadata": {},
   "outputs": [
    {
     "data": {
      "text/plain": [
       "<Axes: xlabel='text'>"
      ]
     },
     "execution_count": 71,
     "metadata": {},
     "output_type": "execute_result"
    },
    {
     "data": {
      "image/png": "[encoded data removed]",
      "text/plain": [
       "<Figure size 640x480 with 1 Axes>"
      ]
     },
     "metadata": {},
     "output_type": "display_data"
    }
   ],
   "source": [
    "# Bar plot\n",
    "df2.plot.bar(x=\"text\", y=\"count_words\")\n"
   ]
  },
  {
   "attachments": {},
   "cell_type": "markdown",
   "id": "ce96ecae-5ca8-4d8e-aaa3-ef7ce0f65204",
   "metadata": {},
   "source": [
    "### Scikit-Learn: Understanding CountVectorizer\n",
    "\n",
    "The CountVectorizer is specifically used for counting words. The vectorizer part of CountVectorizer is (technically speaking!) the process of converting text into some sort of number-y thing that computers can understand."
   ]
  },
  {
   "cell_type": "code",
   "execution_count": 96,
   "id": "d15f7d1b-44fb-4b46-bf12-4e668a10b70f",
   "metadata": {},
   "outputs": [
    {
     "data": {
      "text/plain": [
       "<1x25 sparse matrix of type '<class 'numpy.int64'>'\n",
       "\twith 25 stored elements in Compressed Sparse Row format>"
      ]
     },
     "execution_count": 96,
     "metadata": {},
     "output_type": "execute_result"
    }
   ],
   "source": [
    "from sklearn.feature_extraction.text import CountVectorizer\n",
    "\n",
    "# Build the text\n",
    "text = \"\"\"The CountVectorizer is specifically used for counting words.\n",
    "The vectorizer part of CountVectorizer is (technically speaking!) the process of converting text into some sort of number-y\n",
    "thing that computers can understand.\"\"\"\n",
    "\n",
    "vectorizer = CountVectorizer()\n",
    "\n",
    "matrix = vectorizer.fit_transform([text])\n",
    "matrix\n"
   ]
  },
  {
   "cell_type": "code",
   "execution_count": 97,
   "id": "09457191-bc22-40fc-a0f1-9a16eb61dda6",
   "metadata": {},
   "outputs": [
    {
     "data": {
      "text/plain": [
       "array([[1, 1, 1, 1, 2, 1, 1, 2, 1, 3, 1, 1, 1, 1, 1, 1, 1, 1, 1, 3, 1, 1,\n",
       "        1, 1, 1]])"
      ]
     },
     "execution_count": 97,
     "metadata": {},
     "output_type": "execute_result"
    }
   ],
   "source": [
    "matrix.toarray()\n"
   ]
  },
  {
   "cell_type": "code",
   "execution_count": 98,
   "id": "2ef3c26f-1f10-48cb-b3e8-2e8e58bfc060",
   "metadata": {},
   "outputs": [
    {
     "name": "stdout",
     "output_type": "stream",
     "text": [
      "['can', 'computers', 'converting', 'counting', 'countvectorizer', 'for', 'into', 'is', 'number', 'of', 'part', 'process', 'some', 'sort', 'speaking', 'specifically', 'technically', 'text', 'that', 'the', 'thing', 'understand', 'used', 'vectorizer', 'words']\n"
     ]
    }
   ],
   "source": [
    "print(vectorizer.get_feature_names())\n"
   ]
  },
  {
   "cell_type": "code",
   "execution_count": 99,
   "id": "cbb14588-0260-43a1-95c0-a2fe40e70bb7",
   "metadata": {},
   "outputs": [],
   "source": [
    "counts = pd.DataFrame(matrix.toarray(), columns=vectorizer.get_feature_names())\n"
   ]
  },
  {
   "cell_type": "code",
   "execution_count": 100,
   "id": "6493d177-298a-483f-9e42-3f65dfb92d5f",
   "metadata": {},
   "outputs": [
    {
     "data": {
      "text/html": [
       "<div>\n",
       "<style scoped>\n",
       "    .dataframe tbody tr th:only-of-type {\n",
       "        vertical-align: middle;\n",
       "    }\n",
       "\n",
       "    .dataframe tbody tr th {\n",
       "        vertical-align: top;\n",
       "    }\n",
       "\n",
       "    .dataframe thead th {\n",
       "        text-align: right;\n",
       "    }\n",
       "</style>\n",
       "<table border=\"1\" class=\"dataframe\">\n",
       "  <thead>\n",
       "    <tr style=\"text-align: right;\">\n",
       "      <th></th>\n",
       "      <th>can</th>\n",
       "      <th>computers</th>\n",
       "      <th>converting</th>\n",
       "      <th>counting</th>\n",
       "      <th>countvectorizer</th>\n",
       "      <th>for</th>\n",
       "      <th>into</th>\n",
       "      <th>is</th>\n",
       "      <th>number</th>\n",
       "      <th>of</th>\n",
       "      <th>...</th>\n",
       "      <th>specifically</th>\n",
       "      <th>technically</th>\n",
       "      <th>text</th>\n",
       "      <th>that</th>\n",
       "      <th>the</th>\n",
       "      <th>thing</th>\n",
       "      <th>understand</th>\n",
       "      <th>used</th>\n",
       "      <th>vectorizer</th>\n",
       "      <th>words</th>\n",
       "    </tr>\n",
       "  </thead>\n",
       "  <tbody>\n",
       "    <tr>\n",
       "      <th>0</th>\n",
       "      <td>1</td>\n",
       "      <td>1</td>\n",
       "      <td>1</td>\n",
       "      <td>1</td>\n",
       "      <td>2</td>\n",
       "      <td>1</td>\n",
       "      <td>1</td>\n",
       "      <td>2</td>\n",
       "      <td>1</td>\n",
       "      <td>3</td>\n",
       "      <td>...</td>\n",
       "      <td>1</td>\n",
       "      <td>1</td>\n",
       "      <td>1</td>\n",
       "      <td>1</td>\n",
       "      <td>3</td>\n",
       "      <td>1</td>\n",
       "      <td>1</td>\n",
       "      <td>1</td>\n",
       "      <td>1</td>\n",
       "      <td>1</td>\n",
       "    </tr>\n",
       "  </tbody>\n",
       "</table>\n",
       "<p>1 rows × 25 columns</p>\n",
       "</div>"
      ],
      "text/plain": [
       "   can  computers  converting  counting  countvectorizer  for  into  is  \\\n",
       "0    1          1           1         1                2    1     1   2   \n",
       "\n",
       "   number  of  ...  specifically  technically  text  that  the  thing  \\\n",
       "0       1   3  ...             1            1     1     1    3      1   \n",
       "\n",
       "   understand  used  vectorizer  words  \n",
       "0           1     1           1      1  \n",
       "\n",
       "[1 rows x 25 columns]"
      ]
     },
     "execution_count": 100,
     "metadata": {},
     "output_type": "execute_result"
    }
   ],
   "source": [
    "counts\n"
   ]
  },
  {
   "cell_type": "code",
   "execution_count": 102,
   "id": "d7d8c2a3-e0f8-4644-a45a-916ce638c373",
   "metadata": {},
   "outputs": [
    {
     "data": {
      "text/html": [
       "<div>\n",
       "<style scoped>\n",
       "    .dataframe tbody tr th:only-of-type {\n",
       "        vertical-align: middle;\n",
       "    }\n",
       "\n",
       "    .dataframe tbody tr th {\n",
       "        vertical-align: top;\n",
       "    }\n",
       "\n",
       "    .dataframe thead th {\n",
       "        text-align: right;\n",
       "    }\n",
       "</style>\n",
       "<table border=\"1\" class=\"dataframe\">\n",
       "  <thead>\n",
       "    <tr style=\"text-align: right;\">\n",
       "      <th></th>\n",
       "      <th>0</th>\n",
       "    </tr>\n",
       "  </thead>\n",
       "  <tbody>\n",
       "    <tr>\n",
       "      <th>the</th>\n",
       "      <td>3</td>\n",
       "    </tr>\n",
       "    <tr>\n",
       "      <th>of</th>\n",
       "      <td>3</td>\n",
       "    </tr>\n",
       "    <tr>\n",
       "      <th>countvectorizer</th>\n",
       "      <td>2</td>\n",
       "    </tr>\n",
       "    <tr>\n",
       "      <th>is</th>\n",
       "      <td>2</td>\n",
       "    </tr>\n",
       "    <tr>\n",
       "      <th>can</th>\n",
       "      <td>1</td>\n",
       "    </tr>\n",
       "    <tr>\n",
       "      <th>speaking</th>\n",
       "      <td>1</td>\n",
       "    </tr>\n",
       "    <tr>\n",
       "      <th>vectorizer</th>\n",
       "      <td>1</td>\n",
       "    </tr>\n",
       "    <tr>\n",
       "      <th>used</th>\n",
       "      <td>1</td>\n",
       "    </tr>\n",
       "    <tr>\n",
       "      <th>understand</th>\n",
       "      <td>1</td>\n",
       "    </tr>\n",
       "    <tr>\n",
       "      <th>thing</th>\n",
       "      <td>1</td>\n",
       "    </tr>\n",
       "  </tbody>\n",
       "</table>\n",
       "</div>"
      ],
      "text/plain": [
       "                 0\n",
       "the              3\n",
       "of               3\n",
       "countvectorizer  2\n",
       "is               2\n",
       "can              1\n",
       "speaking         1\n",
       "vectorizer       1\n",
       "used             1\n",
       "understand       1\n",
       "thing            1"
      ]
     },
     "execution_count": 102,
     "metadata": {},
     "output_type": "execute_result"
    }
   ],
   "source": [
    "# Sort the DF and show the top 10 most common words\n",
    "counts.T.sort_values(by=0, ascending=False).head(10)\n"
   ]
  },
  {
   "cell_type": "code",
   "execution_count": 72,
   "id": "0d99e955-a9a0-4197-83f4-51673d3e3ef2",
   "metadata": {},
   "outputs": [
    {
     "name": "stdout",
     "output_type": "stream",
     "text": [
      " to be any thing extraordinary now. When a woman has\n",
      "five grown up daughters, she ought to give over thinking of her own\n",
      "beauty.\"\n",
      "\n",
      "\"In such cases, a woman has not often much beauty to think of.\"\n",
      "\n",
      "\"But, my dear, you must indeed go and see Mr. Bingley when he comes into\n",
      "the neighbourhood.\"\n",
      "\n",
      "\"It is more than I engage for, I assure you.\"\n",
      "\n",
      "\"But consider your daughters. Only think what an establishment it would\n",
      "be for one of them. Sir William and Lady Lucas are determined to go,\n",
      "merely o\n"
     ]
    }
   ],
   "source": [
    "import requests\n",
    "\n",
    "# Download the book\n",
    "response = requests.get(\"http://www.gutenberg.org/cache/epub/42671/pg42671.txt\")\n",
    "text = response.text\n",
    "\n",
    "# Look at some text in the middle\n",
    "print(text[4101:4600])\n"
   ]
  },
  {
   "cell_type": "code",
   "execution_count": 105,
   "id": "647586e3-6c5c-4975-a02e-0e08911274c6",
   "metadata": {},
   "outputs": [],
   "source": [
    "# How often have the words \"love\" and \"hate\" been used in the book?\n",
    "vectorizer = CountVectorizer()\n",
    "matrix = vectorizer.fit_transform([text])\n",
    "counts = pd.DataFrame(matrix.toarray(), columns=vectorizer.get_feature_names())\n"
   ]
  },
  {
   "cell_type": "code",
   "execution_count": 106,
   "id": "d506c60b-9c5e-4414-9dc3-7da801239652",
   "metadata": {},
   "outputs": [
    {
     "name": "stdout",
     "output_type": "stream",
     "text": [
      "0    92\n",
      "Name: love, dtype: int64\n",
      "0    9\n",
      "Name: hate, dtype: int64\n"
     ]
    }
   ],
   "source": [
    "counts = pd.DataFrame(matrix.toarray(), columns=vectorizer.get_feature_names())\n",
    "counts\n",
    "print(counts[\"love\"])\n",
    "print(counts[\"hate\"])\n"
   ]
  }
 ],
 "metadata": {
  "kernelspec": {
   "display_name": "Python 3 (ipykernel)",
   "language": "python",
   "name": "python3"
  },
  "language_info": {
   "codemirror_mode": {
    "name": "ipython",
    "version": 3
   },
   "file_extension": ".py",
   "mimetype": "text/x-python",
   "name": "python",
   "nbconvert_exporter": "python",
   "pygments_lexer": "ipython3",
   "version": "3.11.0"
  }
 },
 "nbformat": 4,
 "nbformat_minor": 5
}
